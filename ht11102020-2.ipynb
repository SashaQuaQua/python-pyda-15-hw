{
 "cells": [
  {
   "cell_type": "code",
   "execution_count": 26,
   "metadata": {},
   "outputs": [
    {
     "name": "stdout",
     "output_type": "stream",
     "text": [
      "Фраза 1лпдддд\n",
      "Фраза 2аа\n",
      "Фраза 1 длинне фразы 2\n"
     ]
    }
   ],
   "source": [
    "#задача 1\n",
    "x= input('Фраза 1')\n",
    "y= input('Фраза 2')\n",
    "if x>y:\n",
    " print('Фраза 1 длинне фразы 2')\n",
    "elif x<y:\n",
    "    print ('Фраза 2 длинее фразы 1')\n",
    "elif x==y:\n",
    "    print ('Фразы одинаковой длины')"
   ]
  },
  {
   "cell_type": "code",
   "execution_count": 7,
   "metadata": {},
   "outputs": [
    {
     "name": "stdout",
     "output_type": "stream",
     "text": [
      "Введите год 2012\n",
      "високосный год\n"
     ]
    }
   ],
   "source": [
    "#задача 2\n",
    "x= int(input ('Введите год '))\n",
    "if x % 4==0 and x % 100 !=0 or x % 400 == 0:\n",
    " print ('високосный год')\n",
    "else:\n",
    "    print ('обычный год')"
   ]
  },
  {
   "cell_type": "code",
   "execution_count": null,
   "metadata": {},
   "outputs": [],
   "source": [
    "#задача 3\n",
    "x= int(input('введите день рождения: '))\n",
    "y= input('введите месяц рождения: ')\n",
    "if (x >= 23 and x <= 31 and y == 'июль') or (x>=1 and x<=23 and y=='август'):\n",
    " print ('Ваш знак зодиака: Лев')\n",
    "elif (x>= 24 and x<= 30 and y== 'август')or (x>=1 and x<= 22 and y=='сентябрь'):\n",
    "    print ('Ваш знак зодиака: Дева')\n",
    "elif (x>=23 and x<=30 and y=='сентябрь')or (x>=1 and x<= 22 and y=='октябрь'):\n",
    "    print ('Ваш знак зодиака: Весы')\n",
    "elif (x>=23 and x<=31 and y=='октябрь')or (x>=1 and x<= 22 and y=='ноябрь'):\n",
    "    print ('Ваш знак зодиака: Скорпион')\n",
    "elif (x>=23 and x<=30 and y=='ноябрь')or (x>=1 and x<= 22 and y=='декабрь'):\n",
    "    print ('Ваш знак зодиака: Стрелец')\n",
    "elif (x>=23 and x<=31 and y=='декабрь')or (x>=1 and x<= 22 and y=='январь'):\n",
    "    print ('Ваш знак зодиака: Козерог')\n",
    "elif (x>=23 and x<=31 and y=='январь')or (x>=1 and x<= 22 and y=='февраль'):\n",
    "    print ('Ваш знак зодиака: Водолей')\n",
    "elif (x>=23 and x<=29 and y=='февраль')or (x>=1 and x<= 22 and y=='март'):\n",
    "    print ('Ваш знак зодиака: Рыбы')\n",
    "elif (x>=23 and x<=31 and y=='март')or (x>=1 and x<= 22 and y=='апрель'):\n",
    "    print ('Ваш знак зодиака: Овен')\n",
    "elif (x>=23 and x<=30 and y=='апрель')or (x>=1 and x<= 23 and y=='май'):\n",
    "    print ('Ваш знак зодиака: Телец')\n",
    "elif (x>=24 and x<=30 and y=='май')or (x>=1 and x<= 23 and y=='июнь'):\n",
    "    print ('Ваш знак зодиака: Близнецы')\n",
    "elif (x>=24 and x<=30 and y=='июнь')or (x>=1 and x<= 22 and y=='июль'):\n",
    "    print ('Ваш знак зодиака: Рак')"
   ]
  },
  {
   "cell_type": "code",
   "execution_count": 1,
   "metadata": {},
   "outputs": [
    {
     "name": "stdout",
     "output_type": "stream",
     "text": [
      "длина товара (см): 55\n",
      "высота товара(см):88\n",
      "ширина товара(см):99\n",
      "Стандартная коробка №3\n"
     ]
    }
   ],
   "source": [
    "#задача 4\n",
    "x= int(input('длина товара (см): '))\n",
    "y= int(input('высота товара(см):'))\n",
    "z= int(input('ширина товара(см):'))\n",
    "if x<15 and y<15 and z<15:\n",
    "  print ('Коробка №1')\n",
    "elif (x>15 and y>15 and z>15) and (x<50 and y<50 and z<50):\n",
    "       print ('Коробка №2')\n",
    "elif x>200:\n",
    "    print ('Коробка для лыж')\n",
    "else:\n",
    "    print('Стандартная коробка №3')\n",
    "       \n",
    "       "
   ]
  }
 ],
 "metadata": {
  "kernelspec": {
   "display_name": "Python 3",
   "language": "python",
   "name": "python3"
  },
  "language_info": {
   "codemirror_mode": {
    "name": "ipython",
    "version": 3
   },
   "file_extension": ".py",
   "mimetype": "text/x-python",
   "name": "python",
   "nbconvert_exporter": "python",
   "pygments_lexer": "ipython3",
   "version": "3.8.3"
  }
 },
 "nbformat": 4,
 "nbformat_minor": 4
}
